{
 "cells": [
  {
   "cell_type": "markdown",
   "metadata": {},
   "source": [
    "# Workshop 7 \n",
    "\n",
    "### Outline: \n",
    " \n",
    "1. Multi-Class Classifcation: Classifying newswires (Chapter 3)\n",
    "2. Regression with Deep Learning (Chapter 3)\n",
    "\n",
    "Source: Deep Learning with Keras, François Chollet, 2017"
   ]
  },
  {
   "cell_type": "markdown",
   "metadata": {},
   "source": [
    "### 1. Classifying Newswires"
   ]
  },
  {
   "cell_type": "code",
   "execution_count": 1,
   "metadata": {},
   "outputs": [
    {
     "name": "stderr",
     "output_type": "stream",
     "text": [
      "Using TensorFlow backend.\n",
      "/Users/demircanm/opt/anaconda3/lib/python3.7/site-packages/tensorflow/python/framework/dtypes.py:526: FutureWarning: Passing (type, 1) or '1type' as a synonym of type is deprecated; in a future version of numpy, it will be understood as (type, (1,)) / '(1,)type'.\n",
      "  _np_qint8 = np.dtype([(\"qint8\", np.int8, 1)])\n",
      "/Users/demircanm/opt/anaconda3/lib/python3.7/site-packages/tensorflow/python/framework/dtypes.py:527: FutureWarning: Passing (type, 1) or '1type' as a synonym of type is deprecated; in a future version of numpy, it will be understood as (type, (1,)) / '(1,)type'.\n",
      "  _np_quint8 = np.dtype([(\"quint8\", np.uint8, 1)])\n",
      "/Users/demircanm/opt/anaconda3/lib/python3.7/site-packages/tensorflow/python/framework/dtypes.py:528: FutureWarning: Passing (type, 1) or '1type' as a synonym of type is deprecated; in a future version of numpy, it will be understood as (type, (1,)) / '(1,)type'.\n",
      "  _np_qint16 = np.dtype([(\"qint16\", np.int16, 1)])\n",
      "/Users/demircanm/opt/anaconda3/lib/python3.7/site-packages/tensorflow/python/framework/dtypes.py:529: FutureWarning: Passing (type, 1) or '1type' as a synonym of type is deprecated; in a future version of numpy, it will be understood as (type, (1,)) / '(1,)type'.\n",
      "  _np_quint16 = np.dtype([(\"quint16\", np.uint16, 1)])\n",
      "/Users/demircanm/opt/anaconda3/lib/python3.7/site-packages/tensorflow/python/framework/dtypes.py:530: FutureWarning: Passing (type, 1) or '1type' as a synonym of type is deprecated; in a future version of numpy, it will be understood as (type, (1,)) / '(1,)type'.\n",
      "  _np_qint32 = np.dtype([(\"qint32\", np.int32, 1)])\n",
      "/Users/demircanm/opt/anaconda3/lib/python3.7/site-packages/tensorflow/python/framework/dtypes.py:535: FutureWarning: Passing (type, 1) or '1type' as a synonym of type is deprecated; in a future version of numpy, it will be understood as (type, (1,)) / '(1,)type'.\n",
      "  np_resource = np.dtype([(\"resource\", np.ubyte, 1)])\n"
     ]
    }
   ],
   "source": [
    "# Loading the reuters dataset\n",
    "from keras.datasets import reuters\n",
    "(train_data, train_labels), (test_data, test_labels) = reuters.load_data(num_words=10000)\n",
    "\n",
    "# As with the IMDB dataset, the argument num_words=10000 restricts the data to the\n",
    "# 10,000 most frequently occurring words found in the data."
   ]
  },
  {
   "cell_type": "code",
   "execution_count": 2,
   "metadata": {},
   "outputs": [
    {
     "data": {
      "text/plain": [
       "[1,\n",
       " 245,\n",
       " 273,\n",
       " 207,\n",
       " 156,\n",
       " 53,\n",
       " 74,\n",
       " 160,\n",
       " 26,\n",
       " 14,\n",
       " 46,\n",
       " 296,\n",
       " 26,\n",
       " 39,\n",
       " 74,\n",
       " 2979,\n",
       " 3554,\n",
       " 14,\n",
       " 46,\n",
       " 4689,\n",
       " 4329,\n",
       " 86,\n",
       " 61,\n",
       " 3499,\n",
       " 4795,\n",
       " 14,\n",
       " 61,\n",
       " 451,\n",
       " 4329,\n",
       " 17,\n",
       " 12]"
      ]
     },
     "execution_count": 2,
     "metadata": {},
     "output_type": "execute_result"
    }
   ],
   "source": [
    "# Each data point is just a list of indexes of the top 10000 frequent words\n",
    "train_data[10]"
   ]
  },
  {
   "cell_type": "code",
   "execution_count": 3,
   "metadata": {},
   "outputs": [],
   "source": [
    "# Decoding a encoded newswire data sample\n",
    "word_index = reuters.get_word_index()\n",
    "reverse_word_index = dict([(value, key) for (key, value) in word_index.items()])\n",
    "decoded_newswire = ' '.join([reverse_word_index.get(i - 3, '?') for i in\n",
    "train_data[0]])"
   ]
  },
  {
   "cell_type": "code",
   "execution_count": 4,
   "metadata": {},
   "outputs": [],
   "source": [
    "# Objective: Transform this list into a \"bag of word\" model\n",
    "# The students did not participate in AA: https://en.wikipedia.org/wiki/Bag-of-words_model"
   ]
  },
  {
   "cell_type": "code",
   "execution_count": 5,
   "metadata": {},
   "outputs": [],
   "source": [
    "import numpy as np\n",
    "# Transform to 10.000 Dimension Vector Space with a very simply bag of words approach\n",
    "def vectorize_sequences(sequences, dimension=10000):\n",
    "    results = np.zeros((len(sequences), dimension))\n",
    "    for i, sequence in enumerate(sequences):\n",
    "        results[i, sequence] = 1. # This is a very simple bag of words model \n",
    "    return results\n",
    "\n",
    "x_train = vectorize_sequences(train_data)\n",
    "x_test = vectorize_sequences(test_data)"
   ]
  },
  {
   "cell_type": "code",
   "execution_count": 6,
   "metadata": {},
   "outputs": [
    {
     "name": "stdout",
     "output_type": "stream",
     "text": [
      "min: 0 - max: 45\n"
     ]
    }
   ],
   "source": [
    "# Range of training labels => 46 Topics\n",
    "print(\"min: {} - max: {}\".format(train_labels.min(),train_labels.max()))"
   ]
  },
  {
   "cell_type": "code",
   "execution_count": 10,
   "metadata": {},
   "outputs": [],
   "source": [
    "# Our training data is categorical, we have to transform it with one-hot-encoding into a proper format\n",
    "# basically this creates dummy variables for each category\n",
    "from keras.utils.np_utils import to_categorical\n",
    "one_hot_train_labels = to_categorical(train_labels)\n",
    "one_hot_test_labels = to_categorical(test_labels)"
   ]
  },
  {
   "cell_type": "markdown",
   "metadata": {},
   "source": [
    "#### The Deep Neural Network Architecture\n",
    "The problem at hand looks very similar to the problem we solved last week. However, instead of having 2 classes (positive and negative sentiment) we do have 46 classes. Thus, the dimensionality of the output space is much larger."
   ]
  },
  {
   "cell_type": "code",
   "execution_count": 7,
   "metadata": {},
   "outputs": [
    {
     "name": "stdout",
     "output_type": "stream",
     "text": [
      "WARNING:tensorflow:From /Users/demircanm/opt/anaconda3/lib/python3.7/site-packages/tensorflow/python/ops/resource_variable_ops.py:435: colocate_with (from tensorflow.python.framework.ops) is deprecated and will be removed in a future version.\n",
      "Instructions for updating:\n",
      "Colocations handled automatically by placer.\n"
     ]
    }
   ],
   "source": [
    "from keras import models\n",
    "from keras import layers\n",
    "\n",
    "# The raw network architecture\n",
    "model = models.Sequential()\n",
    "model.add(layers.Dense(64, activation='relu', input_shape=(10000,)))\n",
    "model.add(layers.Dense(64, activation='relu'))\n",
    "model.add(layers.Dense(46, activation='softmax'))"
   ]
  },
  {
   "cell_type": "markdown",
   "metadata": {},
   "source": [
    "Note two things here:\n",
    "1. Each input vector will be mapped to a 46d output vector\n",
    "2. Last layer uses a softmax activation function. In other words, the present network will output a probability distribution "
   ]
  },
  {
   "cell_type": "markdown",
   "metadata": {},
   "source": [
    "##### The loss function\n",
    "The best loss function to use in this case is categorical_crossentropy. It measures\n",
    "the distance between two probability distributions: here, between the probability distribution\n",
    "output by the network and the true distribution of the labels."
   ]
  },
  {
   "cell_type": "code",
   "execution_count": 8,
   "metadata": {},
   "outputs": [],
   "source": [
    "model.compile(optimizer='SGD', loss='categorical_crossentropy', metrics=['accuracy'])"
   ]
  },
  {
   "cell_type": "markdown",
   "metadata": {},
   "source": [
    "#### Validating our network"
   ]
  },
  {
   "cell_type": "code",
   "execution_count": 11,
   "metadata": {},
   "outputs": [],
   "source": [
    "# Let's pick 1000 samples to use as a validation set\n",
    "x_val = x_train[:1000]\n",
    "partial_x_train = x_train[1000:]\n",
    "y_val = one_hot_train_labels[:1000]\n",
    "partial_y_train = one_hot_train_labels[1000:]"
   ]
  },
  {
   "cell_type": "code",
   "execution_count": null,
   "metadata": {},
   "outputs": [],
   "source": [
    "# Training Phase with 20 epochs"
   ]
  },
  {
   "cell_type": "code",
   "execution_count": 12,
   "metadata": {},
   "outputs": [
    {
     "name": "stdout",
     "output_type": "stream",
     "text": [
      "WARNING:tensorflow:From /Users/demircanm/opt/anaconda3/lib/python3.7/site-packages/tensorflow/python/ops/math_ops.py:3066: to_int32 (from tensorflow.python.ops.math_ops) is deprecated and will be removed in a future version.\n",
      "Instructions for updating:\n",
      "Use tf.cast instead.\n",
      "Train on 7982 samples, validate on 1000 samples\n",
      "Epoch 1/20\n",
      "7982/7982 [==============================] - 2s 278us/step - loss: 3.7870 - accuracy: 0.2207 - val_loss: 3.7316 - val_accuracy: 0.3840\n",
      "Epoch 2/20\n",
      "7982/7982 [==============================] - 1s 188us/step - loss: 3.6890 - accuracy: 0.4035 - val_loss: 3.6205 - val_accuracy: 0.4030\n",
      "Epoch 3/20\n",
      "7982/7982 [==============================] - 1s 187us/step - loss: 3.5627 - accuracy: 0.3847 - val_loss: 3.4686 - val_accuracy: 0.3860\n",
      "Epoch 4/20\n",
      "7982/7982 [==============================] - 2s 189us/step - loss: 3.3893 - accuracy: 0.3668 - val_loss: 3.2617 - val_accuracy: 0.3610\n",
      "Epoch 5/20\n",
      "7982/7982 [==============================] - 1s 179us/step - loss: 3.1618 - accuracy: 0.3559 - val_loss: 3.0050 - val_accuracy: 0.3560\n",
      "Epoch 6/20\n",
      "7982/7982 [==============================] - 2s 197us/step - loss: 2.9053 - accuracy: 0.3532 - val_loss: 2.7517 - val_accuracy: 0.3560\n",
      "Epoch 7/20\n",
      "7982/7982 [==============================] - 2s 211us/step - loss: 2.6819 - accuracy: 0.3563 - val_loss: 2.5576 - val_accuracy: 0.3680\n",
      "Epoch 8/20\n",
      "7982/7982 [==============================] - 2s 239us/step - loss: 2.5161 - accuracy: 0.3791 - val_loss: 2.4146 - val_accuracy: 0.4250\n",
      "Epoch 9/20\n",
      "7982/7982 [==============================] - 2s 221us/step - loss: 2.3903 - accuracy: 0.4308 - val_loss: 2.3052 - val_accuracy: 0.4740\n",
      "Epoch 10/20\n",
      "7982/7982 [==============================] - 2s 232us/step - loss: 2.2920 - accuracy: 0.4768 - val_loss: 2.2193 - val_accuracy: 0.4960\n",
      "Epoch 11/20\n",
      "7982/7982 [==============================] - 2s 246us/step - loss: 2.2135 - accuracy: 0.5004 - val_loss: 2.1506 - val_accuracy: 0.5100\n",
      "Epoch 12/20\n",
      "7982/7982 [==============================] - 2s 228us/step - loss: 2.1497 - accuracy: 0.5079 - val_loss: 2.0943 - val_accuracy: 0.5150\n",
      "Epoch 13/20\n",
      "7982/7982 [==============================] - 2s 264us/step - loss: 2.0963 - accuracy: 0.5100 - val_loss: 2.0469 - val_accuracy: 0.5170\n",
      "Epoch 14/20\n",
      "7982/7982 [==============================] - 2s 244us/step - loss: 2.0506 - accuracy: 0.5117 - val_loss: 2.0063 - val_accuracy: 0.5180\n",
      "Epoch 15/20\n",
      "7982/7982 [==============================] - 2s 229us/step - loss: 2.0107 - accuracy: 0.5134 - val_loss: 1.9705 - val_accuracy: 0.5210\n",
      "Epoch 16/20\n",
      "7982/7982 [==============================] - 2s 203us/step - loss: 1.9755 - accuracy: 0.5152 - val_loss: 1.9392 - val_accuracy: 0.5250\n",
      "Epoch 17/20\n",
      "7982/7982 [==============================] - 2s 269us/step - loss: 1.9440 - accuracy: 0.5187 - val_loss: 1.9111 - val_accuracy: 0.5270\n",
      "Epoch 18/20\n",
      "7982/7982 [==============================] - 2s 264us/step - loss: 1.9157 - accuracy: 0.5244 - val_loss: 1.8860 - val_accuracy: 0.5300\n",
      "Epoch 19/20\n",
      "7982/7982 [==============================] - 2s 253us/step - loss: 1.8903 - accuracy: 0.5298 - val_loss: 1.8632 - val_accuracy: 0.5350\n",
      "Epoch 20/20\n",
      "7982/7982 [==============================] - 3s 370us/step - loss: 1.8669 - accuracy: 0.5378 - val_loss: 1.8424 - val_accuracy: 0.5380\n"
     ]
    }
   ],
   "source": [
    "# validation data = Data on which to evaluate the loss and any model metrics at the end of each epoch.\n",
    "#                   The model will not be trained on this data.\n",
    "history = model.fit(partial_x_train, partial_y_train, epochs=20, batch_size=512, validation_data=(x_val, y_val))"
   ]
  },
  {
   "cell_type": "code",
   "execution_count": 14,
   "metadata": {},
   "outputs": [
    {
     "data": {
      "image/png": "[encoded data removed]",
      "text/plain": [
       "<Figure size 432x288 with 1 Axes>"
      ]
     },
     "metadata": {
      "needs_background": "light"
     },
     "output_type": "display_data"
    }
   ],
   "source": [
    "# Plotting the training and validation loss\n",
    "import matplotlib.pyplot as plt\n",
    "\n",
    "loss = history.history['loss']\n",
    "val_loss = history.history['val_loss']\n",
    "\n",
    "epochs = range(1, len(loss) + 1)\n",
    "\n",
    "plt.plot(epochs, loss, 'bo', label='Training loss')\n",
    "plt.plot(epochs, val_loss, 'b', label='Validation loss')\n",
    "plt.title('Training and validation loss')\n",
    "plt.xlabel('Epochs')\n",
    "plt.ylabel('Loss')\n",
    "plt.legend()\n",
    "plt.show()"
   ]
  },
  {
   "cell_type": "code",
   "execution_count": 15,
   "metadata": {},
   "outputs": [
    {
     "data": {
      "image/png": "[encoded data removed]",
      "text/plain": [
       "<Figure size 432x288 with 1 Axes>"
      ]
     },
     "metadata": {
      "needs_background": "light"
     },
     "output_type": "display_data"
    }
   ],
   "source": [
    "# Plotting the traning and validation accuracy\n",
    "plt.clf()\n",
    "acc = history.history['accuracy']\n",
    "val_acc = history.history['val_accuracy']\n",
    "plt.plot(epochs, acc, 'bo', label='Training acc')\n",
    "plt.plot(epochs, val_acc, 'b', label='Validation acc')\n",
    "plt.title('Training and validation accuracy')\n",
    "plt.xlabel('Epochs')\n",
    "plt.ylabel('Accuracy')\n",
    "plt.legend()\n",
    "plt.show()"
   ]
  },
  {
   "cell_type": "markdown",
   "metadata": {},
   "source": [
    "## Task: Experiment\n",
    "\n",
    "We have a output layer with 46 nodes. What happens to the accuracy when we reduce the number of nodes the second intermediate layer\n",
    "to 2?"
   ]
  },
  {
   "cell_type": "code",
   "execution_count": null,
   "metadata": {},
   "outputs": [],
   "source": [
    "# https://paste.ofcode.org/hg8jxvs9gapTfDLcnHZLtf\n",
    "from keras import models\n",
    "from keras import layers\n",
    "import numpy as np\n",
    "\n",
    "# Data\n",
    "from keras.datasets import reuters\n",
    "(train_data, train_labels), (test_data, test_labels) = reuters.load_data(num_words=10000)\n",
    "\n",
    "# Bag Of Words Model\n",
    "def vectorize_sequences(sequences, dimension=10000):\n",
    "    results = np.zeros((len(sequences), dimension))\n",
    "    for i, sequence in enumerate(sequences):\n",
    "        results[i, sequence] = 1. # This is a very simple bag of words model \n",
    "    return results\n",
    "\n",
    "x_train = vectorize_sequences(train_data)\n",
    "x_test = vectorize_sequences(test_data)\n",
    "\n",
    "# The raw network architecture\n",
    "model = models.Sequential()\n",
    "model.add(layers.Dense(64, activation='relu', input_shape=(10000,)))\n",
    "model.add(layers.Dense(64, activation='relu'))\n",
    "model.add(layers.Dense(46, activation='softmax'))\n",
    "\n",
    "# Compile\n",
    "model.compile(optimizer='SGD', loss='categorical_crossentropy', metrics=['accuracy'])\n",
    "\n",
    "# Transform to \"dummy\" columns \n",
    "from keras.utils.np_utils import to_categorical\n",
    "one_hot_train_labels = to_categorical(train_labels)\n",
    "one_hot_test_labels = to_categorical(test_labels)\n",
    "\n",
    "# Validation Set\n",
    "x_val = x_train[:1000]\n",
    "partial_x_train = x_train[1000:]\n",
    "y_val = one_hot_train_labels[:1000]\n",
    "partial_y_train = one_hot_train_labels[1000:]\n",
    "\n",
    "# Fit\n",
    "history = model.fit(partial_x_train, partial_y_train, epochs=20, batch_size=512, validation_data=(x_val, y_val))"
   ]
  },
  {
   "cell_type": "code",
   "execution_count": null,
   "metadata": {},
   "outputs": [],
   "source": [
    "# You can use: \n",
    "# Plotting the training and validation loss\n",
    "# https://paste.ofcode.org/YPc7LSFpKRUMQ2G55a6tzX\n",
    "import matplotlib.pyplot as plt\n",
    "\n",
    "acc = history.history['accuracy']\n",
    "val_acc = history.history['val_accuracy']\n",
    "\n",
    "epochs = range(1, len(loss) + 1)\n",
    "\n",
    "plt.plot(epochs, acc, 'bo', label='Training acc')\n",
    "plt.plot(epochs, val_acc, 'b', label='Validation acc')\n",
    "plt.title('Training and validation accuracy')\n",
    "plt.xlabel('Epochs')\n",
    "plt.ylabel('Accuracy')\n",
    "plt.legend()\n",
    "plt.show()"
   ]
  },
  {
   "cell_type": "code",
   "execution_count": null,
   "metadata": {},
   "outputs": [],
   "source": []
  },
  {
   "cell_type": "code",
   "execution_count": null,
   "metadata": {},
   "outputs": [],
   "source": []
  },
  {
   "cell_type": "code",
   "execution_count": null,
   "metadata": {},
   "outputs": [],
   "source": []
  },
  {
   "cell_type": "code",
   "execution_count": null,
   "metadata": {},
   "outputs": [],
   "source": []
  },
  {
   "cell_type": "code",
   "execution_count": null,
   "metadata": {},
   "outputs": [],
   "source": []
  },
  {
   "cell_type": "code",
   "execution_count": null,
   "metadata": {},
   "outputs": [],
   "source": []
  },
  {
   "cell_type": "code",
   "execution_count": null,
   "metadata": {},
   "outputs": [],
   "source": []
  },
  {
   "cell_type": "markdown",
   "metadata": {},
   "source": [
    "### Solution:"
   ]
  },
  {
   "cell_type": "code",
   "execution_count": 19,
   "metadata": {},
   "outputs": [
    {
     "name": "stdout",
     "output_type": "stream",
     "text": [
      "Train on 7982 samples, validate on 1000 samples\n",
      "Epoch 1/20\n",
      "7982/7982 [==============================] - 2s 262us/step - loss: 3.7488 - accuracy: 0.3443 - val_loss: 3.6454 - val_accuracy: 0.3540\n",
      "Epoch 2/20\n",
      "7982/7982 [==============================] - 2s 227us/step - loss: 3.5020 - accuracy: 0.3514 - val_loss: 3.2952 - val_accuracy: 0.3540\n",
      "Epoch 3/20\n",
      "7982/7982 [==============================] - 2s 235us/step - loss: 3.0207 - accuracy: 0.3514 - val_loss: 2.7369 - val_accuracy: 0.3540\n",
      "Epoch 4/20\n",
      "7982/7982 [==============================] - 2s 225us/step - loss: 2.6002 - accuracy: 0.3514 - val_loss: 2.4553 - val_accuracy: 0.3540\n",
      "Epoch 5/20\n",
      "7982/7982 [==============================] - 2s 225us/step - loss: 2.4060 - accuracy: 0.3514 - val_loss: 2.3249 - val_accuracy: 0.3540\n",
      "Epoch 6/20\n",
      "7982/7982 [==============================] - 2s 226us/step - loss: 2.3134 - accuracy: 0.3514 - val_loss: 2.2548 - val_accuracy: 0.3540\n",
      "Epoch 7/20\n",
      "7982/7982 [==============================] - 2s 216us/step - loss: 2.2590 - accuracy: 0.3514 - val_loss: 2.2096 - val_accuracy: 0.3540\n",
      "Epoch 8/20\n",
      "7982/7982 [==============================] - 2s 227us/step - loss: 2.2211 - accuracy: 0.3522 - val_loss: 2.1757 - val_accuracy: 0.3530\n",
      "Epoch 9/20\n",
      "7982/7982 [==============================] - 2s 222us/step - loss: 2.1923 - accuracy: 0.3529 - val_loss: 2.1503 - val_accuracy: 0.3540\n",
      "Epoch 10/20\n",
      "7982/7982 [==============================] - 2s 258us/step - loss: 2.1692 - accuracy: 0.3528 - val_loss: 2.1290 - val_accuracy: 0.3520\n",
      "Epoch 11/20\n",
      "7982/7982 [==============================] - 2s 286us/step - loss: 2.1495 - accuracy: 0.3525 - val_loss: 2.1112 - val_accuracy: 0.3540\n",
      "Epoch 12/20\n",
      "7982/7982 [==============================] - 2s 242us/step - loss: 2.1325 - accuracy: 0.3525 - val_loss: 2.0955 - val_accuracy: 0.3540\n",
      "Epoch 13/20\n",
      "7982/7982 [==============================] - 2s 295us/step - loss: 2.1168 - accuracy: 0.3527 - val_loss: 2.0815 - val_accuracy: 0.3550\n",
      "Epoch 14/20\n",
      "7982/7982 [==============================] - 2s 308us/step - loss: 2.1025 - accuracy: 0.3527 - val_loss: 2.0686 - val_accuracy: 0.3570\n",
      "Epoch 15/20\n",
      "7982/7982 [==============================] - 2s 295us/step - loss: 2.0891 - accuracy: 0.3532 - val_loss: 2.0568 - val_accuracy: 0.3580\n",
      "Epoch 16/20\n",
      "7982/7982 [==============================] - 2s 312us/step - loss: 2.0763 - accuracy: 0.3534 - val_loss: 2.0457 - val_accuracy: 0.3580\n",
      "Epoch 17/20\n",
      "7982/7982 [==============================] - 2s 309us/step - loss: 2.0639 - accuracy: 0.3542 - val_loss: 2.0352 - val_accuracy: 0.3570\n",
      "Epoch 18/20\n",
      "7982/7982 [==============================] - 3s 317us/step - loss: 2.0519 - accuracy: 0.3552 - val_loss: 2.0249 - val_accuracy: 0.3580\n",
      "Epoch 19/20\n",
      "7982/7982 [==============================] - 3s 315us/step - loss: 2.0402 - accuracy: 0.3569 - val_loss: 2.0152 - val_accuracy: 0.3590\n",
      "Epoch 20/20\n",
      "7982/7982 [==============================] - 2s 265us/step - loss: 2.0288 - accuracy: 0.3581 - val_loss: 2.0061 - val_accuracy: 0.3670\n"
     ]
    }
   ],
   "source": [
    "#### Change number of nodes from 64 to 2\n",
    "#### This causes a information bottleneck!!!\n",
    "model = models.Sequential()\n",
    "model.add(layers.Dense(64, activation='relu', input_shape=(10000,)))\n",
    "model.add(layers.Dense(2, activation='relu'))\n",
    "model.add(layers.Dense(46, activation='softmax'))\n",
    "model.compile(optimizer='SGD',loss='categorical_crossentropy',metrics=['accuracy'])\n",
    "history = model.fit(partial_x_train, partial_y_train, epochs=20, batch_size=128, validation_data=(x_val, y_val))"
   ]
  },
  {
   "cell_type": "code",
   "execution_count": 20,
   "metadata": {},
   "outputs": [
    {
     "data": {
      "image/png": "[encoded data removed]",
      "text/plain": [
       "<Figure size 432x288 with 1 Axes>"
      ]
     },
     "metadata": {
      "needs_background": "light"
     },
     "output_type": "display_data"
    }
   ],
   "source": [
    "loss = history.history['loss']\n",
    "val_loss = history.history['val_loss']\n",
    "\n",
    "epochs = range(1, len(loss) + 1)\n",
    "\n",
    "plt.plot(epochs, loss, 'bo', label='Training loss')\n",
    "plt.plot(epochs, val_loss, 'b', label='Validation loss')\n",
    "plt.title('Training and validation loss')\n",
    "plt.xlabel('Epochs')\n",
    "plt.ylabel('Loss')\n",
    "plt.legend()\n",
    "plt.show()"
   ]
  },
  {
   "cell_type": "code",
   "execution_count": 21,
   "metadata": {},
   "outputs": [
    {
     "data": {
      "image/png": "[encoded data removed]",
      "text/plain": [
       "<Figure size 432x288 with 1 Axes>"
      ]
     },
     "metadata": {
      "needs_background": "light"
     },
     "output_type": "display_data"
    }
   ],
   "source": [
    "# Plotting the traning and validation accuracy\n",
    "plt.clf()\n",
    "acc = history.history['accuracy']\n",
    "val_acc = history.history['val_accuracy']\n",
    "plt.plot(epochs, acc, 'bo', label='Training acc')\n",
    "plt.plot(epochs, val_acc, 'b', label='Validation acc')\n",
    "plt.title('Training and validation accuracy')\n",
    "plt.xlabel('Epochs')\n",
    "plt.ylabel('Accuracy')\n",
    "plt.legend()\n",
    "plt.show()"
   ]
  },
  {
   "cell_type": "markdown",
   "metadata": {},
   "source": [
    "### Take-Home Message:\n",
    "\n",
    "1. N Classes => N Output Nodes\n",
    "2. Output Layer should be a SoftMAX Activation function (provided that you want to a assign each data point to ONE class)\n",
    "3. Categorical Crossentropy is in many cases the loss function you should use for classification\n",
    "4. Avoid Information Bottlenecks (i.e., don't use hidden layers with too few nodes)"
   ]
  },
  {
   "cell_type": "markdown",
   "metadata": {},
   "source": [
    "### 2. Regression with Deep Learning"
   ]
  },
  {
   "cell_type": "code",
   "execution_count": 22,
   "metadata": {},
   "outputs": [],
   "source": [
    "from keras.datasets import boston_housing\n",
    "(train_data, train_targets), (test_data, test_targets) = boston_housing.load_data()"
   ]
  },
  {
   "cell_type": "code",
   "execution_count": 23,
   "metadata": {},
   "outputs": [
    {
     "data": {
      "text/plain": [
       "(404, 13)"
      ]
     },
     "execution_count": 23,
     "metadata": {},
     "output_type": "execute_result"
    }
   ],
   "source": [
    "# Traning Data\n",
    "train_data.shape"
   ]
  },
  {
   "cell_type": "code",
   "execution_count": 24,
   "metadata": {},
   "outputs": [
    {
     "data": {
      "text/plain": [
       "(102, 13)"
      ]
     },
     "execution_count": 24,
     "metadata": {},
     "output_type": "execute_result"
    }
   ],
   "source": [
    "# Test Data\n",
    "test_data.shape"
   ]
  },
  {
   "cell_type": "code",
   "execution_count": 25,
   "metadata": {},
   "outputs": [
    {
     "data": {
      "text/plain": [
       "array([15.2, 42.3, 50. , 21.1, 17.7, 18.5, 11.3, 15.6, 15.6, 14.4, 12.1,\n",
       "       17.9, 23.1, 19.9, 15.7,  8.8, 50. , 22.5, 24.1, 27.5, 10.9, 30.8,\n",
       "       32.9, 24. , 18.5, 13.3, 22.9, 34.7, 16.6, 17.5, 22.3, 16.1, 14.9,\n",
       "       23.1, 34.9, 25. , 13.9, 13.1, 20.4, 20. , 15.2, 24.7, 22.2, 16.7,\n",
       "       12.7, 15.6, 18.4, 21. , 30.1, 15.1, 18.7,  9.6, 31.5, 24.8, 19.1,\n",
       "       22. , 14.5, 11. , 32. , 29.4, 20.3, 24.4, 14.6, 19.5, 14.1, 14.3,\n",
       "       15.6, 10.5,  6.3, 19.3, 19.3, 13.4, 36.4, 17.8, 13.5, 16.5,  8.3,\n",
       "       14.3, 16. , 13.4, 28.6, 43.5, 20.2, 22. , 23. , 20.7, 12.5, 48.5,\n",
       "       14.6, 13.4, 23.7, 50. , 21.7, 39.8, 38.7, 22.2, 34.9, 22.5, 31.1,\n",
       "       28.7, 46. , 41.7, 21. , 26.6, 15. , 24.4, 13.3, 21.2, 11.7, 21.7,\n",
       "       19.4, 50. , 22.8, 19.7, 24.7, 36.2, 14.2, 18.9, 18.3, 20.6, 24.6,\n",
       "       18.2,  8.7, 44. , 10.4, 13.2, 21.2, 37. , 30.7, 22.9, 20. , 19.3,\n",
       "       31.7, 32. , 23.1, 18.8, 10.9, 50. , 19.6,  5. , 14.4, 19.8, 13.8,\n",
       "       19.6, 23.9, 24.5, 25. , 19.9, 17.2, 24.6, 13.5, 26.6, 21.4, 11.9,\n",
       "       22.6, 19.6,  8.5, 23.7, 23.1, 22.4, 20.5, 23.6, 18.4, 35.2, 23.1,\n",
       "       27.9, 20.6, 23.7, 28. , 13.6, 27.1, 23.6, 20.6, 18.2, 21.7, 17.1,\n",
       "        8.4, 25.3, 13.8, 22.2, 18.4, 20.7, 31.6, 30.5, 20.3,  8.8, 19.2,\n",
       "       19.4, 23.1, 23. , 14.8, 48.8, 22.6, 33.4, 21.1, 13.6, 32.2, 13.1,\n",
       "       23.4, 18.9, 23.9, 11.8, 23.3, 22.8, 19.6, 16.7, 13.4, 22.2, 20.4,\n",
       "       21.8, 26.4, 14.9, 24.1, 23.8, 12.3, 29.1, 21. , 19.5, 23.3, 23.8,\n",
       "       17.8, 11.5, 21.7, 19.9, 25. , 33.4, 28.5, 21.4, 24.3, 27.5, 33.1,\n",
       "       16.2, 23.3, 48.3, 22.9, 22.8, 13.1, 12.7, 22.6, 15. , 15.3, 10.5,\n",
       "       24. , 18.5, 21.7, 19.5, 33.2, 23.2,  5. , 19.1, 12.7, 22.3, 10.2,\n",
       "       13.9, 16.3, 17. , 20.1, 29.9, 17.2, 37.3, 45.4, 17.8, 23.2, 29. ,\n",
       "       22. , 18. , 17.4, 34.6, 20.1, 25. , 15.6, 24.8, 28.2, 21.2, 21.4,\n",
       "       23.8, 31. , 26.2, 17.4, 37.9, 17.5, 20. ,  8.3, 23.9,  8.4, 13.8,\n",
       "        7.2, 11.7, 17.1, 21.6, 50. , 16.1, 20.4, 20.6, 21.4, 20.6, 36.5,\n",
       "        8.5, 24.8, 10.8, 21.9, 17.3, 18.9, 36.2, 14.9, 18.2, 33.3, 21.8,\n",
       "       19.7, 31.6, 24.8, 19.4, 22.8,  7.5, 44.8, 16.8, 18.7, 50. , 50. ,\n",
       "       19.5, 20.1, 50. , 17.2, 20.8, 19.3, 41.3, 20.4, 20.5, 13.8, 16.5,\n",
       "       23.9, 20.6, 31.5, 23.3, 16.8, 14. , 33.8, 36.1, 12.8, 18.3, 18.7,\n",
       "       19.1, 29. , 30.1, 50. , 50. , 22. , 11.9, 37.6, 50. , 22.7, 20.8,\n",
       "       23.5, 27.9, 50. , 19.3, 23.9, 22.6, 15.2, 21.7, 19.2, 43.8, 20.3,\n",
       "       33.2, 19.9, 22.5, 32.7, 22. , 17.1, 19. , 15. , 16.1, 25.1, 23.7,\n",
       "       28.7, 37.2, 22.6, 16.4, 25. , 29.8, 22.1, 17.4, 18.1, 30.3, 17.5,\n",
       "       24.7, 12.6, 26.5, 28.7, 13.3, 10.4, 24.4, 23. , 20. , 17.8,  7. ,\n",
       "       11.8, 24.4, 13.8, 19.4, 25.2, 19.4, 19.4, 29.1])"
      ]
     },
     "execution_count": 25,
     "metadata": {},
     "output_type": "execute_result"
    }
   ],
   "source": [
    "# Numerical Targets \n",
    "train_targets"
   ]
  },
  {
   "cell_type": "markdown",
   "metadata": {},
   "source": [
    "#### Preparing the data"
   ]
  },
  {
   "cell_type": "code",
   "execution_count": 27,
   "metadata": {},
   "outputs": [],
   "source": [
    "# Standardizing the values (center around 0, std of 1)\n",
    "mean = train_data.mean(axis=0)\n",
    "train_data -= mean\n",
    "std = train_data.std(axis=0)\n",
    "train_data /= std\n",
    "\n",
    "test_data -= mean\n",
    "test_data /= std"
   ]
  },
  {
   "cell_type": "code",
   "execution_count": 28,
   "metadata": {},
   "outputs": [],
   "source": [
    "#### Building the network\n",
    "\n",
    "from keras import models\n",
    "from keras import layers\n",
    "\n",
    "def build_model():\n",
    "    model = models.Sequential()\n",
    "    model.add(layers.Dense(64, activation='relu', input_shape=(train_data.shape[1],)))\n",
    "    model.add(layers.Dense(64, activation='relu'))\n",
    "    model.add(layers.Dense(1))\n",
    "    # MSE = Mean Squared Error\n",
    "    # MAE = Mean Absolut Error\n",
    "    # RMSPROP adaptive learning method based on Stochastic Gradient Descent\n",
    "    # If you use SGD, your network might not converge....\n",
    "    model.compile(optimizer='rmsprop', loss='mse', metrics=['mae'])\n",
    "    return model"
   ]
  },
  {
   "cell_type": "markdown",
   "metadata": {},
   "source": [
    "#### Introducing cross validation"
   ]
  },
  {
   "cell_type": "markdown",
   "metadata": {},
   "source": [
    "Since we have so little data, the variance of the validation set might be high. To cope, we use k-fold cross validation."
   ]
  },
  {
   "cell_type": "code",
   "execution_count": 29,
   "metadata": {},
   "outputs": [
    {
     "name": "stdout",
     "output_type": "stream",
     "text": [
      "processing fold # 0\n",
      "processing fold # 1\n",
      "processing fold # 2\n",
      "processing fold # 3\n"
     ]
    }
   ],
   "source": [
    "import numpy as np\n",
    "\n",
    "k = 4\n",
    "num_val_samples = len(train_data) // k # returns an integer instead of float\n",
    "num_epochs = 100\n",
    "all_scores = []\n",
    "\n",
    "for i in range(k):\n",
    "    print('processing fold #', i) \n",
    "    val_data = train_data[i * num_val_samples: (i + 1) * num_val_samples]    # Slice Get Validation Data \n",
    "    val_targets = train_targets[i * num_val_samples: (i + 1) * num_val_samples] # Slice Val. Target Data\n",
    "    \n",
    "    # Exclude validation data from the training data\n",
    "    partial_train_data = np.concatenate(\n",
    "        [\n",
    "            train_data[:i * num_val_samples],\n",
    "            train_data[(i + 1) * num_val_samples:]\n",
    "        ],\n",
    "        axis=0)\n",
    "    partial_train_targets = np.concatenate(\n",
    "        [\n",
    "            train_targets[:i * num_val_samples],\n",
    "            train_targets[(i + 1) * num_val_samples:]\n",
    "        ],\n",
    "        axis=0)\n",
    "    \n",
    "    # Build Model\n",
    "    model = build_model()\n",
    "    \n",
    "    # Fit Model\n",
    "    model.fit(partial_train_data, partial_train_targets, epochs=num_epochs, batch_size=1, verbose=0)\n",
    "    \n",
    "    # Evaluate Model\n",
    "    val_mse, val_mae = model.evaluate(val_data, val_targets, verbose=0)\n",
    "    \n",
    "    # Add Mean Absolut Error to All Scored List\n",
    "    all_scores.append(val_mae)"
   ]
  },
  {
   "cell_type": "code",
   "execution_count": 30,
   "metadata": {},
   "outputs": [
    {
     "data": {
      "text/plain": [
       "[2.132519006729126, 2.608851909637451, 2.496135711669922, 2.3795418739318848]"
      ]
     },
     "execution_count": 30,
     "metadata": {},
     "output_type": "execute_result"
    }
   ],
   "source": [
    "# Get MAE for each k-fold set\n",
    "all_scores"
   ]
  },
  {
   "cell_type": "code",
   "execution_count": 31,
   "metadata": {},
   "outputs": [
    {
     "data": {
      "text/plain": [
       "2.404262125492096"
      ]
     },
     "execution_count": 31,
     "metadata": {},
     "output_type": "execute_result"
    }
   ],
   "source": [
    "# Compute Average\n",
    "np.mean(all_scores)"
   ]
  },
  {
   "cell_type": "code",
   "execution_count": 91,
   "metadata": {},
   "outputs": [],
   "source": [
    "# Okay, lets analyze how the validation error depends on the number of epochs \n",
    "# Rerun..."
   ]
  },
  {
   "cell_type": "code",
   "execution_count": 40,
   "metadata": {},
   "outputs": [
    {
     "name": "stdout",
     "output_type": "stream",
     "text": [
      "processing fold # 0\n",
      "processing fold # 1\n"
     ]
    }
   ],
   "source": [
    "import numpy as np\n",
    "\n",
    "k = 2\n",
    "num_val_samples = len(train_data) // k # returns an integer instead of float\n",
    "num_epochs = 500\n",
    "all_mae_histories = [] # <-- This is changed\n",
    "\n",
    "for i in range(k):\n",
    "    print('processing fold #', i) \n",
    "    val_data = train_data[i * num_val_samples: (i + 1) * num_val_samples]    # Slice Get Validation Data \n",
    "    val_targets = train_targets[i * num_val_samples: (i + 1) * num_val_samples] # Slice Val. Target Data\n",
    "    \n",
    "    # Exclude validation data from the training data\n",
    "    partial_train_data = np.concatenate(\n",
    "        [\n",
    "            train_data[:i * num_val_samples],\n",
    "            train_data[(i + 1) * num_val_samples:]\n",
    "        ],\n",
    "        axis=0)\n",
    "    partial_train_targets = np.concatenate(\n",
    "        [\n",
    "            train_targets[:i * num_val_samples],\n",
    "            train_targets[(i + 1) * num_val_samples:]\n",
    "        ],\n",
    "        axis=0)\n",
    "    \n",
    "    # Build Model\n",
    "    model = build_model()\n",
    "    \n",
    "    # Fit Model # <-- This is changed\n",
    "    history = model.fit(partial_train_data, partial_train_targets, epochs=num_epochs, batch_size=1, verbose=0)\n",
    "    \n",
    "    # Cache MAE History  # <-- This is changed\n",
    "    mae_history = history.history['mae']  \n",
    "    \n",
    "    # Add Mean Absolut Error to All Scored List # <-- This is changed\n",
    "    all_mae_histories.append(mae_history)"
   ]
  },
  {
   "cell_type": "code",
   "execution_count": 35,
   "metadata": {},
   "outputs": [],
   "source": [
    "# Each iteration generated a history object w\n",
    "average_mae_history = [np.mean([x[i] for x in all_mae_histories]) for i in range(num_epochs)]"
   ]
  },
  {
   "cell_type": "code",
   "execution_count": 36,
   "metadata": {},
   "outputs": [
    {
     "data": {
      "image/png": "[encoded data removed]",
      "text/plain": [
       "<Figure size 432x288 with 1 Axes>"
      ]
     },
     "metadata": {
      "needs_background": "light"
     },
     "output_type": "display_data"
    }
   ],
   "source": [
    "# Plot MAE History\n",
    "import matplotlib.pyplot as plt\n",
    "plt.plot(range(1, len(average_mae_history) + 1), average_mae_history)\n",
    "plt.xlabel('Epochs')\n",
    "plt.ylabel('Validation MAE')\n",
    "plt.show()"
   ]
  },
  {
   "cell_type": "code",
   "execution_count": 37,
   "metadata": {},
   "outputs": [
    {
     "name": "stdout",
     "output_type": "stream",
     "text": [
      "102/102 [==============================] - 0s 2ms/step\n"
     ]
    }
   ],
   "source": [
    "# Evaluating the Model with the Test Set\n",
    "model = build_model()\n",
    "model.fit(train_data, train_targets, epochs=80, batch_size=16, verbose=0)\n",
    "test_mse_score, test_mae_score = model.evaluate(test_data, test_targets)"
   ]
  },
  {
   "cell_type": "code",
   "execution_count": 38,
   "metadata": {},
   "outputs": [
    {
     "data": {
      "text/plain": [
       "2.674461603164673"
      ]
     },
     "execution_count": 38,
     "metadata": {},
     "output_type": "execute_result"
    }
   ],
   "source": [
    "# Voila.\n",
    "test_mae_score"
   ]
  },
  {
   "cell_type": "markdown",
   "metadata": {},
   "source": [
    "#### Take-Home Message\n",
    "1. Mean squared error (MSE) is a loss function commonly used for regression.\n",
    "2. A common regression metric is mean absolute error.\n",
    "3. When features in the input data have values in different ranges, each feature should be scaled independently as a preprocessing step.\n",
    "4. When there is little data available, using K-fold validation is a great way to reliably evaluate a model.\n",
    "5. If there is little data, use small network. Otherwise your network might overfit."
   ]
  },
  {
   "cell_type": "code",
   "execution_count": null,
   "metadata": {},
   "outputs": [],
   "source": []
  }
 ],
 "metadata": {
  "kernelspec": {
   "display_name": "Python 3",
   "language": "python",
   "name": "python3"
  },
  "language_info": {
   "codemirror_mode": {
    "name": "ipython",
    "version": 3
   },
   "file_extension": ".py",
   "mimetype": "text/x-python",
   "name": "python",
   "nbconvert_exporter": "python",
   "pygments_lexer": "ipython3",
   "version": "3.7.4"
  }
 },
 "nbformat": 4,
 "nbformat_minor": 2
}
